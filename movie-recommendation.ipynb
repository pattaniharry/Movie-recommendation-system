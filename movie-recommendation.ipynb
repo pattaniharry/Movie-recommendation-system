{
 "cells": [
  {
   "cell_type": "code",
   "execution_count": null,
   "id": "f77dc8af-f28a-46d4-ab37-de7a0071a77f",
   "metadata": {
    "scrolled": true
   },
   "outputs": [
    {
     "name": "stdout",
     "output_type": "stream",
     "text": [
      "Resuming from page 1...\n",
      "Fetching page 1/250...\n",
      "Fetching page 2/250...\n",
      "Fetching page 3/250...\n",
      "Fetching page 4/250...\n",
      "Fetching page 5/250...\n",
      "Fetching page 6/250...\n",
      "Fetching page 7/250...\n",
      "Fetching page 8/250...\n",
      "Fetching page 9/250...\n",
      "Fetching page 10/250...\n",
      "Fetching page 11/250...\n",
      "Fetching page 12/250...\n",
      "Fetching page 13/250...\n",
      "Fetching page 14/250...\n",
      "Fetching page 15/250...\n",
      "Fetching page 16/250...\n",
      "Fetching page 17/250...\n",
      "Fetching page 18/250...\n",
      "Fetching page 19/250...\n",
      "Fetching page 20/250...\n",
      "Fetching page 21/250...\n",
      "Fetching page 22/250...\n",
      "Fetching page 23/250...\n",
      "Fetching page 24/250...\n",
      "Fetching page 25/250...\n",
      "Fetching page 26/250...\n",
      "Fetching page 27/250...\n",
      "Fetching page 28/250...\n",
      "Fetching page 29/250...\n",
      "Fetching page 30/250...\n",
      "Fetching page 31/250...\n",
      "Fetching page 32/250...\n",
      "Fetching page 33/250...\n",
      "Fetching page 34/250...\n",
      "Fetching page 35/250...\n",
      "Fetching page 36/250...\n",
      "Fetching page 37/250...\n",
      "Fetching page 38/250...\n",
      "Fetching page 39/250...\n",
      "Fetching page 40/250...\n",
      "Fetching page 41/250...\n",
      "Fetching page 42/250...\n",
      "Fetching page 43/250...\n",
      "Fetching page 44/250...\n",
      "Fetching page 45/250...\n",
      "Fetching page 46/250...\n",
      "Fetching page 47/250...\n",
      "Fetching page 48/250...\n",
      "Fetching page 49/250...\n",
      "Fetching page 50/250...\n",
      "Fetching page 51/250...\n",
      "Fetching page 52/250...\n",
      "Fetching page 53/250...\n",
      "Fetching page 54/250...\n",
      "Fetching page 55/250...\n",
      "Fetching page 56/250...\n",
      "Fetching page 57/250...\n",
      "Fetching page 58/250...\n",
      "Fetching page 59/250...\n",
      "Fetching page 60/250...\n",
      "Fetching page 61/250...\n",
      "Fetching page 62/250...\n",
      "Fetching page 63/250...\n",
      "Fetching page 64/250...\n",
      "Fetching page 65/250...\n",
      "Fetching page 66/250...\n",
      "Request failed (attempt 1/3): HTTPSConnectionPool(host='api.themoviedb.org', port=443): Read timed out. (read timeout=10)\n",
      "Fetching page 67/250...\n",
      "Fetching page 68/250...\n",
      "Fetching page 69/250...\n",
      "Fetching page 70/250...\n",
      "Fetching page 71/250...\n",
      "Fetching page 72/250...\n",
      "Fetching page 73/250...\n",
      "Fetching page 74/250...\n",
      "Fetching page 75/250...\n",
      "Fetching page 76/250...\n",
      "Fetching page 77/250...\n",
      "Fetching page 78/250...\n",
      "Fetching page 79/250...\n",
      "Fetching page 80/250...\n",
      "Fetching page 81/250...\n",
      "Fetching page 82/250...\n",
      "Fetching page 83/250...\n",
      "Fetching page 84/250...\n",
      "Fetching page 85/250...\n",
      "Fetching page 86/250...\n",
      "Fetching page 87/250...\n",
      "Fetching page 88/250...\n",
      "Request failed (attempt 1/3): HTTPSConnectionPool(host='api.themoviedb.org', port=443): Read timed out. (read timeout=10)\n",
      "Request failed (attempt 1/3): HTTPSConnectionPool(host='api.themoviedb.org', port=443): Read timed out. (read timeout=10)\n",
      "Request failed (attempt 1/3): HTTPSConnectionPool(host='api.themoviedb.org', port=443): Read timed out. (read timeout=10)\n",
      "Fetching page 89/250...\n",
      "Fetching page 90/250...\n",
      "Fetching page 91/250...\n",
      "Fetching page 92/250...\n",
      "Fetching page 93/250...\n",
      "Fetching page 94/250...\n",
      "Fetching page 95/250...\n",
      "Request failed (attempt 1/3): ('Connection aborted.', RemoteDisconnected('Remote end closed connection without response'))\n",
      "Request failed (attempt 2/3): HTTPSConnectionPool(host='api.themoviedb.org', port=443): Max retries exceeded with url: /3/movie/915935/credits?api_key=fd03025c1b89acca9d64d24dd165339a (Caused by NameResolutionError(\"<urllib3.connection.HTTPSConnection object at 0x000001CCE338C710>: Failed to resolve 'api.themoviedb.org' ([Errno 11001] getaddrinfo failed)\"))\n",
      "Fetching page 96/250...\n",
      "Fetching page 97/250...\n",
      "Fetching page 98/250...\n",
      "Fetching page 99/250...\n",
      "Fetching page 100/250...\n",
      "Fetching page 101/250...\n",
      "Fetching page 102/250...\n",
      "Fetching page 103/250...\n",
      "Fetching page 104/250...\n",
      "Fetching page 105/250...\n",
      "Fetching page 106/250...\n",
      "Fetching page 107/250...\n",
      "Fetching page 108/250...\n",
      "Fetching page 109/250...\n",
      "Fetching page 110/250...\n",
      "Fetching page 111/250...\n",
      "Fetching page 112/250...\n",
      "Fetching page 113/250...\n",
      "Fetching page 114/250...\n",
      "Fetching page 115/250...\n",
      "Fetching page 116/250...\n",
      "Fetching page 117/250...\n",
      "Fetching page 118/250...\n",
      "Fetching page 119/250...\n",
      "Fetching page 120/250...\n",
      "Fetching page 121/250...\n",
      "Fetching page 122/250...\n",
      "Fetching page 123/250...\n",
      "Fetching page 124/250...\n",
      "Fetching page 125/250...\n",
      "Fetching page 126/250...\n",
      "Fetching page 127/250...\n",
      "Fetching page 128/250...\n",
      "Fetching page 129/250...\n",
      "Fetching page 130/250...\n",
      "Fetching page 131/250...\n",
      "Fetching page 132/250...\n",
      "Fetching page 133/250...\n",
      "Fetching page 134/250...\n",
      "Fetching page 135/250...\n",
      "Fetching page 136/250...\n",
      "Fetching page 137/250...\n",
      "Fetching page 138/250...\n",
      "Fetching page 139/250...\n",
      "Fetching page 140/250...\n",
      "Fetching page 141/250...\n",
      "Fetching page 142/250...\n",
      "Fetching page 143/250...\n",
      "Fetching page 144/250...\n",
      "Fetching page 145/250...\n",
      "Fetching page 146/250...\n",
      "Fetching page 147/250...\n",
      "Fetching page 148/250...\n",
      "Fetching page 149/250...\n",
      "Fetching page 150/250...\n",
      "Fetching page 151/250...\n",
      "Fetching page 152/250...\n",
      "Fetching page 153/250...\n",
      "Fetching page 154/250...\n",
      "Fetching page 155/250...\n",
      "Fetching page 156/250...\n",
      "Fetching page 157/250...\n",
      "Fetching page 158/250...\n",
      "Fetching page 159/250...\n",
      "Fetching page 160/250...\n",
      "Fetching page 161/250...\n",
      "Fetching page 162/250...\n",
      "Fetching page 163/250...\n",
      "Fetching page 164/250...\n",
      "Fetching page 165/250...\n",
      "Fetching page 166/250...\n",
      "Fetching page 167/250...\n",
      "Fetching page 168/250...\n",
      "Fetching page 169/250...\n",
      "Fetching page 170/250...\n",
      "Fetching page 171/250...\n",
      "Fetching page 172/250...\n",
      "Fetching page 173/250...\n",
      "Fetching page 174/250...\n",
      "Fetching page 175/250...\n",
      "Fetching page 176/250...\n",
      "Fetching page 177/250...\n",
      "Fetching page 178/250...\n",
      "Fetching page 179/250...\n",
      "Fetching page 180/250...\n",
      "Fetching page 181/250...\n",
      "Fetching page 182/250...\n",
      "Fetching page 183/250...\n",
      "Fetching page 184/250...\n",
      "Fetching page 185/250...\n",
      "Fetching page 186/250...\n",
      "Fetching page 187/250...\n",
      "Fetching page 188/250...\n",
      "Fetching page 189/250...\n",
      "Fetching page 190/250...\n",
      "Fetching page 191/250...\n",
      "Fetching page 192/250...\n",
      "Fetching page 193/250...\n",
      "Fetching page 194/250...\n",
      "Fetching page 195/250...\n",
      "Fetching page 196/250...\n",
      "Fetching page 197/250...\n",
      "Fetching page 198/250...\n",
      "Fetching page 199/250...\n",
      "Fetching page 200/250...\n",
      "Fetching page 201/250...\n",
      "Fetching page 202/250...\n",
      "Fetching page 203/250...\n",
      "Fetching page 204/250...\n",
      "Fetching page 205/250...\n",
      "Fetching page 206/250...\n",
      "Fetching page 207/250...\n",
      "Fetching page 208/250...\n",
      "Fetching page 209/250...\n",
      "Fetching page 210/250...\n",
      "Fetching page 211/250...\n",
      "Fetching page 212/250...\n",
      "Fetching page 213/250...\n",
      "Fetching page 214/250...\n",
      "Fetching page 215/250...\n",
      "Fetching page 216/250...\n",
      "Fetching page 217/250...\n",
      "Fetching page 218/250...\n",
      "Fetching page 219/250...\n",
      "Fetching page 220/250...\n",
      "Fetching page 221/250...\n",
      "Fetching page 222/250...\n",
      "Fetching page 223/250...\n",
      "Fetching page 224/250...\n",
      "Fetching page 225/250...\n",
      "Fetching page 226/250...\n",
      "Fetching page 227/250...\n",
      "Fetching page 228/250...\n",
      "Fetching page 229/250...\n",
      "Fetching page 230/250...\n",
      "Request failed (attempt 1/3): HTTPSConnectionPool(host='api.themoviedb.org', port=443): Read timed out. (read timeout=10)\n",
      "Request failed (attempt 2/3): HTTPSConnectionPool(host='api.themoviedb.org', port=443): Read timed out. (read timeout=10)\n",
      "Request failed (attempt 3/3): HTTPSConnectionPool(host='api.themoviedb.org', port=443): Read timed out. (read timeout=10)\n",
      "Fetching page 231/250...\n",
      "Fetching page 232/250...\n",
      "Fetching page 233/250...\n",
      "Fetching page 234/250...\n",
      "Fetching page 235/250...\n",
      "Fetching page 236/250...\n",
      "Fetching page 237/250...\n",
      "Fetching page 238/250...\n",
      "Fetching page 239/250...\n",
      "Fetching page 240/250...\n",
      "Fetching page 241/250...\n",
      "Fetching page 242/250...\n",
      "Fetching page 243/250...\n",
      "Fetching page 244/250...\n",
      "Fetching page 245/250...\n",
      "Fetching page 246/250...\n",
      "Fetching page 247/250...\n",
      "Fetching page 248/250...\n",
      "Fetching page 249/250...\n",
      "Fetching page 250/250...\n",
      "\n",
      "✅ Done! Saved to 'movies_final.csv' and 'credits_final.csv'\n"
     ]
    }
   ],
   "source": []
  },
  {
   "cell_type": "code",
   "execution_count": 1,
   "id": "be63fd2c-b932-437e-857d-d52274175c3d",
   "metadata": {},
   "outputs": [],
   "source": [
    "import numpy as np\n",
    "import pandas as pd"
   ]
  },
  {
   "cell_type": "code",
   "execution_count": 2,
   "id": "d85febe5-893a-40b6-ae69-77e57bb72f4d",
   "metadata": {},
   "outputs": [],
   "source": [
    "movies = pd.read_csv('movies_final.csv')\n",
    "credits = pd.read_csv('credits_final.csv')"
   ]
  },
  {
   "cell_type": "code",
   "execution_count": 3,
   "id": "f3a13aa3-3959-4499-bc3a-a7d57b92fdb2",
   "metadata": {},
   "outputs": [
    {
     "data": {
      "text/html": [
       "<div>\n",
       "<style scoped>\n",
       "    .dataframe tbody tr th:only-of-type {\n",
       "        vertical-align: middle;\n",
       "    }\n",
       "\n",
       "    .dataframe tbody tr th {\n",
       "        vertical-align: top;\n",
       "    }\n",
       "\n",
       "    .dataframe thead th {\n",
       "        text-align: right;\n",
       "    }\n",
       "</style>\n",
       "<table border=\"1\" class=\"dataframe\">\n",
       "  <thead>\n",
       "    <tr style=\"text-align: right;\">\n",
       "      <th></th>\n",
       "      <th>budget</th>\n",
       "      <th>genres</th>\n",
       "      <th>homepage</th>\n",
       "      <th>id</th>\n",
       "      <th>keywords</th>\n",
       "      <th>original_language</th>\n",
       "      <th>original_title</th>\n",
       "      <th>overview</th>\n",
       "      <th>popularity</th>\n",
       "      <th>production_companies</th>\n",
       "      <th>production_countries</th>\n",
       "      <th>release_date</th>\n",
       "      <th>revenue</th>\n",
       "      <th>runtime</th>\n",
       "      <th>spoken_languages</th>\n",
       "      <th>status</th>\n",
       "      <th>tagline</th>\n",
       "      <th>title</th>\n",
       "      <th>vote_average</th>\n",
       "      <th>vote_count</th>\n",
       "    </tr>\n",
       "  </thead>\n",
       "  <tbody>\n",
       "    <tr>\n",
       "      <th>0</th>\n",
       "      <td>150000000</td>\n",
       "      <td>['Family', 'Comedy', 'Adventure', 'Fantasy']</td>\n",
       "      <td>https://www.minecraft-movie.com</td>\n",
       "      <td>950387</td>\n",
       "      <td>['friendship', 'surrealism', 'exploration', 'p...</td>\n",
       "      <td>en</td>\n",
       "      <td>A Minecraft Movie</td>\n",
       "      <td>Four misfits find themselves struggling with o...</td>\n",
       "      <td>990.9442</td>\n",
       "      <td>['Warner Bros. Pictures', 'Legendary Pictures'...</td>\n",
       "      <td>['Sweden', 'United States of America']</td>\n",
       "      <td>2025-03-31</td>\n",
       "      <td>323380122</td>\n",
       "      <td>101</td>\n",
       "      <td>['English']</td>\n",
       "      <td>Released</td>\n",
       "      <td>Be there and be square.</td>\n",
       "      <td>A Minecraft Movie</td>\n",
       "      <td>6.134</td>\n",
       "      <td>354</td>\n",
       "    </tr>\n",
       "    <tr>\n",
       "      <th>1</th>\n",
       "      <td>9895000</td>\n",
       "      <td>['Action', 'Thriller', 'Mystery', 'Crime']</td>\n",
       "      <td>NaN</td>\n",
       "      <td>1195430</td>\n",
       "      <td>['remake', 'based on movie', 'bollywood']</td>\n",
       "      <td>hi</td>\n",
       "      <td>देवा</td>\n",
       "      <td>Dev Ambre, a ruthless cop, loses his memory in...</td>\n",
       "      <td>353.3204</td>\n",
       "      <td>['Zee Studios', 'Roy Kapur Films']</td>\n",
       "      <td>['India']</td>\n",
       "      <td>2025-01-31</td>\n",
       "      <td>0</td>\n",
       "      <td>155</td>\n",
       "      <td>['हिन्दी']</td>\n",
       "      <td>Released</td>\n",
       "      <td>NaN</td>\n",
       "      <td>Deva</td>\n",
       "      <td>5.432</td>\n",
       "      <td>22</td>\n",
       "    </tr>\n",
       "    <tr>\n",
       "      <th>2</th>\n",
       "      <td>0</td>\n",
       "      <td>['Action', 'Adventure']</td>\n",
       "      <td>https://www.amazon.com/gp/video/detail/B0DCYJL1GN</td>\n",
       "      <td>1229730</td>\n",
       "      <td>[]</td>\n",
       "      <td>fr</td>\n",
       "      <td>Carjackers</td>\n",
       "      <td>By day, they're invisible—valets, hostesses, a...</td>\n",
       "      <td>297.0009</td>\n",
       "      <td>['Gaumont']</td>\n",
       "      <td>['France']</td>\n",
       "      <td>2025-03-27</td>\n",
       "      <td>0</td>\n",
       "      <td>97</td>\n",
       "      <td>['Français']</td>\n",
       "      <td>Released</td>\n",
       "      <td>NaN</td>\n",
       "      <td>Carjackers</td>\n",
       "      <td>6.200</td>\n",
       "      <td>95</td>\n",
       "    </tr>\n",
       "    <tr>\n",
       "      <th>3</th>\n",
       "      <td>180000000</td>\n",
       "      <td>['Action', 'Thriller', 'Science Fiction']</td>\n",
       "      <td>https://www.marvel.com/movies/captain-america-...</td>\n",
       "      <td>822119</td>\n",
       "      <td>['hero', 'superhero', 'revenge', 'aftercredits...</td>\n",
       "      <td>en</td>\n",
       "      <td>Captain America: Brave New World</td>\n",
       "      <td>After meeting with newly elected U.S. Presiden...</td>\n",
       "      <td>283.1613</td>\n",
       "      <td>['Marvel Studios', 'Kevin Feige Productions']</td>\n",
       "      <td>['United States of America']</td>\n",
       "      <td>2025-02-12</td>\n",
       "      <td>411409721</td>\n",
       "      <td>119</td>\n",
       "      <td>['English', '日本語', 'Español']</td>\n",
       "      <td>Released</td>\n",
       "      <td>The future favors the brave.</td>\n",
       "      <td>Captain America: Brave New World</td>\n",
       "      <td>6.099</td>\n",
       "      <td>1254</td>\n",
       "    </tr>\n",
       "    <tr>\n",
       "      <th>4</th>\n",
       "      <td>0</td>\n",
       "      <td>['Action', 'Thriller']</td>\n",
       "      <td>NaN</td>\n",
       "      <td>1125899</td>\n",
       "      <td>[]</td>\n",
       "      <td>en</td>\n",
       "      <td>Cleaner</td>\n",
       "      <td>When a group of radical activists take over an...</td>\n",
       "      <td>263.1996</td>\n",
       "      <td>['Anton', 'Qwerty Films']</td>\n",
       "      <td>['United Kingdom']</td>\n",
       "      <td>2025-02-19</td>\n",
       "      <td>0</td>\n",
       "      <td>96</td>\n",
       "      <td>['English']</td>\n",
       "      <td>Released</td>\n",
       "      <td>The stakes are a thousand feet high.</td>\n",
       "      <td>Cleaner</td>\n",
       "      <td>6.508</td>\n",
       "      <td>181</td>\n",
       "    </tr>\n",
       "  </tbody>\n",
       "</table>\n",
       "</div>"
      ],
      "text/plain": [
       "      budget                                        genres  \\\n",
       "0  150000000  ['Family', 'Comedy', 'Adventure', 'Fantasy']   \n",
       "1    9895000    ['Action', 'Thriller', 'Mystery', 'Crime']   \n",
       "2          0                       ['Action', 'Adventure']   \n",
       "3  180000000     ['Action', 'Thriller', 'Science Fiction']   \n",
       "4          0                        ['Action', 'Thriller']   \n",
       "\n",
       "                                            homepage       id  \\\n",
       "0                    https://www.minecraft-movie.com   950387   \n",
       "1                                                NaN  1195430   \n",
       "2  https://www.amazon.com/gp/video/detail/B0DCYJL1GN  1229730   \n",
       "3  https://www.marvel.com/movies/captain-america-...   822119   \n",
       "4                                                NaN  1125899   \n",
       "\n",
       "                                            keywords original_language  \\\n",
       "0  ['friendship', 'surrealism', 'exploration', 'p...                en   \n",
       "1          ['remake', 'based on movie', 'bollywood']                hi   \n",
       "2                                                 []                fr   \n",
       "3  ['hero', 'superhero', 'revenge', 'aftercredits...                en   \n",
       "4                                                 []                en   \n",
       "\n",
       "                     original_title  \\\n",
       "0                 A Minecraft Movie   \n",
       "1                              देवा   \n",
       "2                        Carjackers   \n",
       "3  Captain America: Brave New World   \n",
       "4                           Cleaner   \n",
       "\n",
       "                                            overview  popularity  \\\n",
       "0  Four misfits find themselves struggling with o...    990.9442   \n",
       "1  Dev Ambre, a ruthless cop, loses his memory in...    353.3204   \n",
       "2  By day, they're invisible—valets, hostesses, a...    297.0009   \n",
       "3  After meeting with newly elected U.S. Presiden...    283.1613   \n",
       "4  When a group of radical activists take over an...    263.1996   \n",
       "\n",
       "                                production_companies  \\\n",
       "0  ['Warner Bros. Pictures', 'Legendary Pictures'...   \n",
       "1                 ['Zee Studios', 'Roy Kapur Films']   \n",
       "2                                        ['Gaumont']   \n",
       "3      ['Marvel Studios', 'Kevin Feige Productions']   \n",
       "4                          ['Anton', 'Qwerty Films']   \n",
       "\n",
       "                     production_countries release_date    revenue  runtime  \\\n",
       "0  ['Sweden', 'United States of America']   2025-03-31  323380122      101   \n",
       "1                               ['India']   2025-01-31          0      155   \n",
       "2                              ['France']   2025-03-27          0       97   \n",
       "3            ['United States of America']   2025-02-12  411409721      119   \n",
       "4                      ['United Kingdom']   2025-02-19          0       96   \n",
       "\n",
       "                spoken_languages    status  \\\n",
       "0                    ['English']  Released   \n",
       "1                     ['हिन्दी']  Released   \n",
       "2                   ['Français']  Released   \n",
       "3  ['English', '日本語', 'Español']  Released   \n",
       "4                    ['English']  Released   \n",
       "\n",
       "                                tagline                             title  \\\n",
       "0               Be there and be square.                 A Minecraft Movie   \n",
       "1                                   NaN                              Deva   \n",
       "2                                   NaN                        Carjackers   \n",
       "3          The future favors the brave.  Captain America: Brave New World   \n",
       "4  The stakes are a thousand feet high.                           Cleaner   \n",
       "\n",
       "   vote_average  vote_count  \n",
       "0         6.134         354  \n",
       "1         5.432          22  \n",
       "2         6.200          95  \n",
       "3         6.099        1254  \n",
       "4         6.508         181  "
      ]
     },
     "execution_count": 3,
     "metadata": {},
     "output_type": "execute_result"
    }
   ],
   "source": [
    "movies.head()\n"
   ]
  },
  {
   "cell_type": "code",
   "execution_count": 4,
   "id": "cb6c337b-dd96-4ad2-a50e-a71fa85a7d0d",
   "metadata": {},
   "outputs": [
    {
     "data": {
      "text/html": [
       "<div>\n",
       "<style scoped>\n",
       "    .dataframe tbody tr th:only-of-type {\n",
       "        vertical-align: middle;\n",
       "    }\n",
       "\n",
       "    .dataframe tbody tr th {\n",
       "        vertical-align: top;\n",
       "    }\n",
       "\n",
       "    .dataframe thead th {\n",
       "        text-align: right;\n",
       "    }\n",
       "</style>\n",
       "<table border=\"1\" class=\"dataframe\">\n",
       "  <thead>\n",
       "    <tr style=\"text-align: right;\">\n",
       "      <th></th>\n",
       "      <th>movie_id</th>\n",
       "      <th>title</th>\n",
       "      <th>cast</th>\n",
       "      <th>crew</th>\n",
       "    </tr>\n",
       "  </thead>\n",
       "  <tbody>\n",
       "    <tr>\n",
       "      <th>0</th>\n",
       "      <td>950387</td>\n",
       "      <td>A Minecraft Movie</td>\n",
       "      <td>['Jason Momoa', 'Jack Black', 'Sebastian Eugen...</td>\n",
       "      <td>['Producer: Roy Lee', 'Director: Jared Hess', ...</td>\n",
       "    </tr>\n",
       "  </tbody>\n",
       "</table>\n",
       "</div>"
      ],
      "text/plain": [
       "   movie_id              title  \\\n",
       "0    950387  A Minecraft Movie   \n",
       "\n",
       "                                                cast  \\\n",
       "0  ['Jason Momoa', 'Jack Black', 'Sebastian Eugen...   \n",
       "\n",
       "                                                crew  \n",
       "0  ['Producer: Roy Lee', 'Director: Jared Hess', ...  "
      ]
     },
     "execution_count": 4,
     "metadata": {},
     "output_type": "execute_result"
    }
   ],
   "source": [
    "credits.head(1)\n"
   ]
  },
  {
   "cell_type": "code",
   "execution_count": 5,
   "id": "1780da39-39ec-4b1b-9273-5d9a5357318c",
   "metadata": {},
   "outputs": [],
   "source": [
    "movies = movies.merge(credits,on='title')"
   ]
  },
  {
   "cell_type": "code",
   "execution_count": 6,
   "id": "28eb4e95-80ec-4bb6-8bdf-41e02011f17b",
   "metadata": {},
   "outputs": [],
   "source": [
    "movies = movies[['movie_id','title','overview','genres','keywords','cast','crew']]"
   ]
  },
  {
   "cell_type": "code",
   "execution_count": 7,
   "id": "f6821184-0756-4aa2-bdf7-f5cf7e69b822",
   "metadata": {},
   "outputs": [
    {
     "name": "stdout",
     "output_type": "stream",
     "text": [
      "   movie_id                             title  \\\n",
      "0    950387                 A Minecraft Movie   \n",
      "1   1195430                              Deva   \n",
      "2   1447439                              Deva   \n",
      "3   1229730                        Carjackers   \n",
      "4    822119  Captain America: Brave New World   \n",
      "\n",
      "                                            overview  \\\n",
      "0  Four misfits find themselves struggling with o...   \n",
      "1  Dev Ambre, a ruthless cop, loses his memory in...   \n",
      "2  Dev Ambre, a ruthless cop, loses his memory in...   \n",
      "3  By day, they're invisible—valets, hostesses, a...   \n",
      "4  After meeting with newly elected U.S. Presiden...   \n",
      "\n",
      "                                         genres  \\\n",
      "0  ['Family', 'Comedy', 'Adventure', 'Fantasy']   \n",
      "1    ['Action', 'Thriller', 'Mystery', 'Crime']   \n",
      "2    ['Action', 'Thriller', 'Mystery', 'Crime']   \n",
      "3                       ['Action', 'Adventure']   \n",
      "4     ['Action', 'Thriller', 'Science Fiction']   \n",
      "\n",
      "                                            keywords  \\\n",
      "0  ['friendship', 'surrealism', 'exploration', 'p...   \n",
      "1          ['remake', 'based on movie', 'bollywood']   \n",
      "2          ['remake', 'based on movie', 'bollywood']   \n",
      "3                                                 []   \n",
      "4  ['hero', 'superhero', 'revenge', 'aftercredits...   \n",
      "\n",
      "                                                cast  \\\n",
      "0  ['Jason Momoa', 'Jack Black', 'Sebastian Eugen...   \n",
      "1  ['Shahid Kapoor', 'Pooja Hegde', 'Pavail Gulat...   \n",
      "2  ['Shahid Kapoor', 'Pooja Hegde', 'Pavail Gulat...   \n",
      "3  ['Zoé Marchal', 'Franck Gastambide', 'Bosh', '...   \n",
      "4  ['Anthony Mackie', 'Harrison Ford', 'Danny Ram...   \n",
      "\n",
      "                                                crew  \n",
      "0  ['Producer: Roy Lee', 'Director: Jared Hess', ...  \n",
      "1  ['Director: Rosshan Andrrews', 'Producer: Sidd...  \n",
      "2  ['Director: Rosshan Andrrews', 'Writer: Sumit ...  \n",
      "3                         ['Director: Kamel Guemra']  \n",
      "4  ['Producer: Kevin Feige', 'Director: Julius On...  \n"
     ]
    }
   ],
   "source": [
    "print(movies.head())"
   ]
  },
  {
   "cell_type": "code",
   "execution_count": 8,
   "id": "0af1e376-963f-4ca6-91be-189f704fa858",
   "metadata": {},
   "outputs": [
    {
     "data": {
      "text/plain": [
       "movie_id     0\n",
       "title        0\n",
       "overview    51\n",
       "genres       0\n",
       "keywords     0\n",
       "cast         0\n",
       "crew         0\n",
       "dtype: int64"
      ]
     },
     "execution_count": 8,
     "metadata": {},
     "output_type": "execute_result"
    }
   ],
   "source": [
    "movies.isnull().sum()"
   ]
  },
  {
   "cell_type": "code",
   "execution_count": 9,
   "id": "e0d79f4d-0668-49f3-9286-cbb6c1150ec5",
   "metadata": {},
   "outputs": [],
   "source": [
    " movies.dropna(inplace=True)\n"
   ]
  },
  {
   "cell_type": "code",
   "execution_count": 10,
   "id": "adb99dbe-1438-4b6a-88bf-a92c5b4a6a3c",
   "metadata": {},
   "outputs": [
    {
     "data": {
      "text/plain": [
       "np.int64(2117)"
      ]
     },
     "execution_count": 10,
     "metadata": {},
     "output_type": "execute_result"
    }
   ],
   "source": [
    "movies.duplicated().sum()"
   ]
  },
  {
   "cell_type": "code",
   "execution_count": 11,
   "id": "42c88f1e-f296-4cc3-bef8-5906a703aec3",
   "metadata": {},
   "outputs": [],
   "source": [
    "movies = movies.drop_duplicates().reset_index(drop=True)\n"
   ]
  },
  {
   "cell_type": "code",
   "execution_count": 12,
   "id": "d379293d-248a-40ac-8be2-8ee463522fc7",
   "metadata": {},
   "outputs": [
    {
     "data": {
      "text/plain": [
       "\"['Family', 'Comedy', 'Adventure', 'Fantasy']\""
      ]
     },
     "execution_count": 12,
     "metadata": {},
     "output_type": "execute_result"
    }
   ],
   "source": [
    "movies.iloc[0].genres\n"
   ]
  },
  {
   "cell_type": "code",
   "execution_count": 13,
   "id": "31d00a55-b3b5-4bd5-9fd7-2aeaa90b62db",
   "metadata": {},
   "outputs": [
    {
     "data": {
      "text/html": [
       "<div>\n",
       "<style scoped>\n",
       "    .dataframe tbody tr th:only-of-type {\n",
       "        vertical-align: middle;\n",
       "    }\n",
       "\n",
       "    .dataframe tbody tr th {\n",
       "        vertical-align: top;\n",
       "    }\n",
       "\n",
       "    .dataframe thead th {\n",
       "        text-align: right;\n",
       "    }\n",
       "</style>\n",
       "<table border=\"1\" class=\"dataframe\">\n",
       "  <thead>\n",
       "    <tr style=\"text-align: right;\">\n",
       "      <th></th>\n",
       "      <th>movie_id</th>\n",
       "      <th>title</th>\n",
       "      <th>overview</th>\n",
       "      <th>genres</th>\n",
       "      <th>keywords</th>\n",
       "      <th>cast</th>\n",
       "      <th>crew</th>\n",
       "    </tr>\n",
       "  </thead>\n",
       "  <tbody>\n",
       "    <tr>\n",
       "      <th>0</th>\n",
       "      <td>950387</td>\n",
       "      <td>A Minecraft Movie</td>\n",
       "      <td>Four misfits find themselves struggling with o...</td>\n",
       "      <td>['Family', 'Comedy', 'Adventure', 'Fantasy']</td>\n",
       "      <td>['friendship', 'surrealism', 'exploration', 'p...</td>\n",
       "      <td>['Jason Momoa', 'Jack Black', 'Sebastian Eugen...</td>\n",
       "      <td>['Producer: Roy Lee', 'Director: Jared Hess', ...</td>\n",
       "    </tr>\n",
       "    <tr>\n",
       "      <th>1</th>\n",
       "      <td>1195430</td>\n",
       "      <td>Deva</td>\n",
       "      <td>Dev Ambre, a ruthless cop, loses his memory in...</td>\n",
       "      <td>['Action', 'Thriller', 'Mystery', 'Crime']</td>\n",
       "      <td>['remake', 'based on movie', 'bollywood']</td>\n",
       "      <td>['Shahid Kapoor', 'Pooja Hegde', 'Pavail Gulat...</td>\n",
       "      <td>['Director: Rosshan Andrrews', 'Producer: Sidd...</td>\n",
       "    </tr>\n",
       "    <tr>\n",
       "      <th>2</th>\n",
       "      <td>1447439</td>\n",
       "      <td>Deva</td>\n",
       "      <td>Dev Ambre, a ruthless cop, loses his memory in...</td>\n",
       "      <td>['Action', 'Thriller', 'Mystery', 'Crime']</td>\n",
       "      <td>['remake', 'based on movie', 'bollywood']</td>\n",
       "      <td>['Shahid Kapoor', 'Pooja Hegde', 'Pavail Gulat...</td>\n",
       "      <td>['Director: Rosshan Andrrews', 'Writer: Sumit ...</td>\n",
       "    </tr>\n",
       "    <tr>\n",
       "      <th>3</th>\n",
       "      <td>1229730</td>\n",
       "      <td>Carjackers</td>\n",
       "      <td>By day, they're invisible—valets, hostesses, a...</td>\n",
       "      <td>['Action', 'Adventure']</td>\n",
       "      <td>[]</td>\n",
       "      <td>['Zoé Marchal', 'Franck Gastambide', 'Bosh', '...</td>\n",
       "      <td>['Director: Kamel Guemra']</td>\n",
       "    </tr>\n",
       "    <tr>\n",
       "      <th>4</th>\n",
       "      <td>822119</td>\n",
       "      <td>Captain America: Brave New World</td>\n",
       "      <td>After meeting with newly elected U.S. Presiden...</td>\n",
       "      <td>['Action', 'Thriller', 'Science Fiction']</td>\n",
       "      <td>['hero', 'superhero', 'revenge', 'aftercredits...</td>\n",
       "      <td>['Anthony Mackie', 'Harrison Ford', 'Danny Ram...</td>\n",
       "      <td>['Producer: Kevin Feige', 'Director: Julius On...</td>\n",
       "    </tr>\n",
       "  </tbody>\n",
       "</table>\n",
       "</div>"
      ],
      "text/plain": [
       "   movie_id                             title  \\\n",
       "0    950387                 A Minecraft Movie   \n",
       "1   1195430                              Deva   \n",
       "2   1447439                              Deva   \n",
       "3   1229730                        Carjackers   \n",
       "4    822119  Captain America: Brave New World   \n",
       "\n",
       "                                            overview  \\\n",
       "0  Four misfits find themselves struggling with o...   \n",
       "1  Dev Ambre, a ruthless cop, loses his memory in...   \n",
       "2  Dev Ambre, a ruthless cop, loses his memory in...   \n",
       "3  By day, they're invisible—valets, hostesses, a...   \n",
       "4  After meeting with newly elected U.S. Presiden...   \n",
       "\n",
       "                                         genres  \\\n",
       "0  ['Family', 'Comedy', 'Adventure', 'Fantasy']   \n",
       "1    ['Action', 'Thriller', 'Mystery', 'Crime']   \n",
       "2    ['Action', 'Thriller', 'Mystery', 'Crime']   \n",
       "3                       ['Action', 'Adventure']   \n",
       "4     ['Action', 'Thriller', 'Science Fiction']   \n",
       "\n",
       "                                            keywords  \\\n",
       "0  ['friendship', 'surrealism', 'exploration', 'p...   \n",
       "1          ['remake', 'based on movie', 'bollywood']   \n",
       "2          ['remake', 'based on movie', 'bollywood']   \n",
       "3                                                 []   \n",
       "4  ['hero', 'superhero', 'revenge', 'aftercredits...   \n",
       "\n",
       "                                                cast  \\\n",
       "0  ['Jason Momoa', 'Jack Black', 'Sebastian Eugen...   \n",
       "1  ['Shahid Kapoor', 'Pooja Hegde', 'Pavail Gulat...   \n",
       "2  ['Shahid Kapoor', 'Pooja Hegde', 'Pavail Gulat...   \n",
       "3  ['Zoé Marchal', 'Franck Gastambide', 'Bosh', '...   \n",
       "4  ['Anthony Mackie', 'Harrison Ford', 'Danny Ram...   \n",
       "\n",
       "                                                crew  \n",
       "0  ['Producer: Roy Lee', 'Director: Jared Hess', ...  \n",
       "1  ['Director: Rosshan Andrrews', 'Producer: Sidd...  \n",
       "2  ['Director: Rosshan Andrrews', 'Writer: Sumit ...  \n",
       "3                         ['Director: Kamel Guemra']  \n",
       "4  ['Producer: Kevin Feige', 'Director: Julius On...  "
      ]
     },
     "execution_count": 13,
     "metadata": {},
     "output_type": "execute_result"
    }
   ],
   "source": [
    "movies.head()"
   ]
  },
  {
   "cell_type": "code",
   "execution_count": 14,
   "id": "d0d05e82-8f51-4b36-8153-6c5a023324da",
   "metadata": {},
   "outputs": [
    {
     "data": {
      "text/plain": [
       "\"['Producer: Roy Lee', 'Director: Jared Hess', 'Producer: Mary Parent', 'Producer: Vu Bui', 'Producer: Jason Momoa', 'Producer: Torfi Frans Ólafsson', 'Producer: Cale Boyter', 'Producer: Jill Messick', 'Producer: Jon Berg']\""
      ]
     },
     "execution_count": 14,
     "metadata": {},
     "output_type": "execute_result"
    }
   ],
   "source": [
    " movies['crew'][0]\n"
   ]
  },
  {
   "cell_type": "code",
   "execution_count": 15,
   "id": "0687ca23-9d3e-43af-a291-3e87cbd17710",
   "metadata": {},
   "outputs": [],
   "source": [
    "#overview is a string so we are formatting that\n",
    "movies['overview'] =  movies['overview'].apply(lambda x:x.split())"
   ]
  },
  {
   "cell_type": "code",
   "execution_count": 16,
   "id": "d369a1d5-db54-4e77-9f93-33dbfc2d0ca9",
   "metadata": {},
   "outputs": [],
   "source": [
    "#now we need to combine two words so that sam worthington becomes samworthington\n",
    "movies['genres'] = movies['genres'].apply(lambda x:[i.replace(\" \",\"\") for i in x])\n",
    "movies['keywords'] = movies['keywords'].apply(lambda x:[i.replace(\" \",\"\") for i in x])\n",
    "movies['cast'] = movies['cast'].apply(lambda x:[i.replace(\" \",\"\") for i in x])\n",
    "movies['crew'] = movies['crew'].apply(lambda x:[i.replace(\" \",\"\") for i in x])"
   ]
  },
  {
   "cell_type": "code",
   "execution_count": 17,
   "id": "af4db68f-a81b-4226-bcbf-fed3c5ca3107",
   "metadata": {},
   "outputs": [
    {
     "data": {
      "text/html": [
       "<div>\n",
       "<style scoped>\n",
       "    .dataframe tbody tr th:only-of-type {\n",
       "        vertical-align: middle;\n",
       "    }\n",
       "\n",
       "    .dataframe tbody tr th {\n",
       "        vertical-align: top;\n",
       "    }\n",
       "\n",
       "    .dataframe thead th {\n",
       "        text-align: right;\n",
       "    }\n",
       "</style>\n",
       "<table border=\"1\" class=\"dataframe\">\n",
       "  <thead>\n",
       "    <tr style=\"text-align: right;\">\n",
       "      <th></th>\n",
       "      <th>movie_id</th>\n",
       "      <th>title</th>\n",
       "      <th>overview</th>\n",
       "      <th>genres</th>\n",
       "      <th>keywords</th>\n",
       "      <th>cast</th>\n",
       "      <th>crew</th>\n",
       "    </tr>\n",
       "  </thead>\n",
       "  <tbody>\n",
       "    <tr>\n",
       "      <th>0</th>\n",
       "      <td>950387</td>\n",
       "      <td>A Minecraft Movie</td>\n",
       "      <td>[Four, misfits, find, themselves, struggling, ...</td>\n",
       "      <td>[[, ', F, a, m, i, l, y, ', ,, , ', C, o, m, e...</td>\n",
       "      <td>[[, ', f, r, i, e, n, d, s, h, i, p, ', ,, , '...</td>\n",
       "      <td>[[, ', J, a, s, o, n, , M, o, m, o, a, ', ,, ,...</td>\n",
       "      <td>[[, ', P, r, o, d, u, c, e, r, :, , R, o, y, ,...</td>\n",
       "    </tr>\n",
       "    <tr>\n",
       "      <th>1</th>\n",
       "      <td>1195430</td>\n",
       "      <td>Deva</td>\n",
       "      <td>[Dev, Ambre,, a, ruthless, cop,, loses, his, m...</td>\n",
       "      <td>[[, ', A, c, t, i, o, n, ', ,, , ', T, h, r, i...</td>\n",
       "      <td>[[, ', r, e, m, a, k, e, ', ,, , ', b, a, s, e...</td>\n",
       "      <td>[[, ', S, h, a, h, i, d, , K, a, p, o, o, r, '...</td>\n",
       "      <td>[[, ', D, i, r, e, c, t, o, r, :, , R, o, s, s...</td>\n",
       "    </tr>\n",
       "    <tr>\n",
       "      <th>2</th>\n",
       "      <td>1447439</td>\n",
       "      <td>Deva</td>\n",
       "      <td>[Dev, Ambre,, a, ruthless, cop,, loses, his, m...</td>\n",
       "      <td>[[, ', A, c, t, i, o, n, ', ,, , ', T, h, r, i...</td>\n",
       "      <td>[[, ', r, e, m, a, k, e, ', ,, , ', b, a, s, e...</td>\n",
       "      <td>[[, ', S, h, a, h, i, d, , K, a, p, o, o, r, '...</td>\n",
       "      <td>[[, ', D, i, r, e, c, t, o, r, :, , R, o, s, s...</td>\n",
       "    </tr>\n",
       "    <tr>\n",
       "      <th>3</th>\n",
       "      <td>1229730</td>\n",
       "      <td>Carjackers</td>\n",
       "      <td>[By, day,, they're, invisible—valets,, hostess...</td>\n",
       "      <td>[[, ', A, c, t, i, o, n, ', ,, , ', A, d, v, e...</td>\n",
       "      <td>[[, ]]</td>\n",
       "      <td>[[, ', Z, o, é, , M, a, r, c, h, a, l, ', ,, ,...</td>\n",
       "      <td>[[, ', D, i, r, e, c, t, o, r, :, , K, a, m, e...</td>\n",
       "    </tr>\n",
       "    <tr>\n",
       "      <th>4</th>\n",
       "      <td>822119</td>\n",
       "      <td>Captain America: Brave New World</td>\n",
       "      <td>[After, meeting, with, newly, elected, U.S., P...</td>\n",
       "      <td>[[, ', A, c, t, i, o, n, ', ,, , ', T, h, r, i...</td>\n",
       "      <td>[[, ', h, e, r, o, ', ,, , ', s, u, p, e, r, h...</td>\n",
       "      <td>[[, ', A, n, t, h, o, n, y, , M, a, c, k, i, e...</td>\n",
       "      <td>[[, ', P, r, o, d, u, c, e, r, :, , K, e, v, i...</td>\n",
       "    </tr>\n",
       "  </tbody>\n",
       "</table>\n",
       "</div>"
      ],
      "text/plain": [
       "   movie_id                             title  \\\n",
       "0    950387                 A Minecraft Movie   \n",
       "1   1195430                              Deva   \n",
       "2   1447439                              Deva   \n",
       "3   1229730                        Carjackers   \n",
       "4    822119  Captain America: Brave New World   \n",
       "\n",
       "                                            overview  \\\n",
       "0  [Four, misfits, find, themselves, struggling, ...   \n",
       "1  [Dev, Ambre,, a, ruthless, cop,, loses, his, m...   \n",
       "2  [Dev, Ambre,, a, ruthless, cop,, loses, his, m...   \n",
       "3  [By, day,, they're, invisible—valets,, hostess...   \n",
       "4  [After, meeting, with, newly, elected, U.S., P...   \n",
       "\n",
       "                                              genres  \\\n",
       "0  [[, ', F, a, m, i, l, y, ', ,, , ', C, o, m, e...   \n",
       "1  [[, ', A, c, t, i, o, n, ', ,, , ', T, h, r, i...   \n",
       "2  [[, ', A, c, t, i, o, n, ', ,, , ', T, h, r, i...   \n",
       "3  [[, ', A, c, t, i, o, n, ', ,, , ', A, d, v, e...   \n",
       "4  [[, ', A, c, t, i, o, n, ', ,, , ', T, h, r, i...   \n",
       "\n",
       "                                            keywords  \\\n",
       "0  [[, ', f, r, i, e, n, d, s, h, i, p, ', ,, , '...   \n",
       "1  [[, ', r, e, m, a, k, e, ', ,, , ', b, a, s, e...   \n",
       "2  [[, ', r, e, m, a, k, e, ', ,, , ', b, a, s, e...   \n",
       "3                                             [[, ]]   \n",
       "4  [[, ', h, e, r, o, ', ,, , ', s, u, p, e, r, h...   \n",
       "\n",
       "                                                cast  \\\n",
       "0  [[, ', J, a, s, o, n, , M, o, m, o, a, ', ,, ,...   \n",
       "1  [[, ', S, h, a, h, i, d, , K, a, p, o, o, r, '...   \n",
       "2  [[, ', S, h, a, h, i, d, , K, a, p, o, o, r, '...   \n",
       "3  [[, ', Z, o, é, , M, a, r, c, h, a, l, ', ,, ,...   \n",
       "4  [[, ', A, n, t, h, o, n, y, , M, a, c, k, i, e...   \n",
       "\n",
       "                                                crew  \n",
       "0  [[, ', P, r, o, d, u, c, e, r, :, , R, o, y, ,...  \n",
       "1  [[, ', D, i, r, e, c, t, o, r, :, , R, o, s, s...  \n",
       "2  [[, ', D, i, r, e, c, t, o, r, :, , R, o, s, s...  \n",
       "3  [[, ', D, i, r, e, c, t, o, r, :, , K, a, m, e...  \n",
       "4  [[, ', P, r, o, d, u, c, e, r, :, , K, e, v, i...  "
      ]
     },
     "execution_count": 17,
     "metadata": {},
     "output_type": "execute_result"
    }
   ],
   "source": [
    "movies.head()"
   ]
  },
  {
   "cell_type": "code",
   "execution_count": 18,
   "id": "f4bda831-0660-4db4-baeb-e9ea1e13d451",
   "metadata": {},
   "outputs": [],
   "source": [
    "#for tags that will help the recommendation we will create a new column tags and concatinate all the above \n",
    "movies['tags'] = movies['overview'] + movies['genres'] + movies['keywords'] + movies['cast'] + movies['crew']"
   ]
  },
  {
   "cell_type": "code",
   "execution_count": 19,
   "id": "0a6bc57f-2f26-4554-8909-c56d5bec0071",
   "metadata": {},
   "outputs": [
    {
     "data": {
      "text/html": [
       "<div>\n",
       "<style scoped>\n",
       "    .dataframe tbody tr th:only-of-type {\n",
       "        vertical-align: middle;\n",
       "    }\n",
       "\n",
       "    .dataframe tbody tr th {\n",
       "        vertical-align: top;\n",
       "    }\n",
       "\n",
       "    .dataframe thead th {\n",
       "        text-align: right;\n",
       "    }\n",
       "</style>\n",
       "<table border=\"1\" class=\"dataframe\">\n",
       "  <thead>\n",
       "    <tr style=\"text-align: right;\">\n",
       "      <th></th>\n",
       "      <th>movie_id</th>\n",
       "      <th>title</th>\n",
       "      <th>overview</th>\n",
       "      <th>genres</th>\n",
       "      <th>keywords</th>\n",
       "      <th>cast</th>\n",
       "      <th>crew</th>\n",
       "      <th>tags</th>\n",
       "    </tr>\n",
       "  </thead>\n",
       "  <tbody>\n",
       "    <tr>\n",
       "      <th>0</th>\n",
       "      <td>950387</td>\n",
       "      <td>A Minecraft Movie</td>\n",
       "      <td>[Four, misfits, find, themselves, struggling, ...</td>\n",
       "      <td>[[, ', F, a, m, i, l, y, ', ,, , ', C, o, m, e...</td>\n",
       "      <td>[[, ', f, r, i, e, n, d, s, h, i, p, ', ,, , '...</td>\n",
       "      <td>[[, ', J, a, s, o, n, , M, o, m, o, a, ', ,, ,...</td>\n",
       "      <td>[[, ', P, r, o, d, u, c, e, r, :, , R, o, y, ,...</td>\n",
       "      <td>[Four, misfits, find, themselves, struggling, ...</td>\n",
       "    </tr>\n",
       "    <tr>\n",
       "      <th>1</th>\n",
       "      <td>1195430</td>\n",
       "      <td>Deva</td>\n",
       "      <td>[Dev, Ambre,, a, ruthless, cop,, loses, his, m...</td>\n",
       "      <td>[[, ', A, c, t, i, o, n, ', ,, , ', T, h, r, i...</td>\n",
       "      <td>[[, ', r, e, m, a, k, e, ', ,, , ', b, a, s, e...</td>\n",
       "      <td>[[, ', S, h, a, h, i, d, , K, a, p, o, o, r, '...</td>\n",
       "      <td>[[, ', D, i, r, e, c, t, o, r, :, , R, o, s, s...</td>\n",
       "      <td>[Dev, Ambre,, a, ruthless, cop,, loses, his, m...</td>\n",
       "    </tr>\n",
       "    <tr>\n",
       "      <th>2</th>\n",
       "      <td>1447439</td>\n",
       "      <td>Deva</td>\n",
       "      <td>[Dev, Ambre,, a, ruthless, cop,, loses, his, m...</td>\n",
       "      <td>[[, ', A, c, t, i, o, n, ', ,, , ', T, h, r, i...</td>\n",
       "      <td>[[, ', r, e, m, a, k, e, ', ,, , ', b, a, s, e...</td>\n",
       "      <td>[[, ', S, h, a, h, i, d, , K, a, p, o, o, r, '...</td>\n",
       "      <td>[[, ', D, i, r, e, c, t, o, r, :, , R, o, s, s...</td>\n",
       "      <td>[Dev, Ambre,, a, ruthless, cop,, loses, his, m...</td>\n",
       "    </tr>\n",
       "    <tr>\n",
       "      <th>3</th>\n",
       "      <td>1229730</td>\n",
       "      <td>Carjackers</td>\n",
       "      <td>[By, day,, they're, invisible—valets,, hostess...</td>\n",
       "      <td>[[, ', A, c, t, i, o, n, ', ,, , ', A, d, v, e...</td>\n",
       "      <td>[[, ]]</td>\n",
       "      <td>[[, ', Z, o, é, , M, a, r, c, h, a, l, ', ,, ,...</td>\n",
       "      <td>[[, ', D, i, r, e, c, t, o, r, :, , K, a, m, e...</td>\n",
       "      <td>[By, day,, they're, invisible—valets,, hostess...</td>\n",
       "    </tr>\n",
       "    <tr>\n",
       "      <th>4</th>\n",
       "      <td>822119</td>\n",
       "      <td>Captain America: Brave New World</td>\n",
       "      <td>[After, meeting, with, newly, elected, U.S., P...</td>\n",
       "      <td>[[, ', A, c, t, i, o, n, ', ,, , ', T, h, r, i...</td>\n",
       "      <td>[[, ', h, e, r, o, ', ,, , ', s, u, p, e, r, h...</td>\n",
       "      <td>[[, ', A, n, t, h, o, n, y, , M, a, c, k, i, e...</td>\n",
       "      <td>[[, ', P, r, o, d, u, c, e, r, :, , K, e, v, i...</td>\n",
       "      <td>[After, meeting, with, newly, elected, U.S., P...</td>\n",
       "    </tr>\n",
       "  </tbody>\n",
       "</table>\n",
       "</div>"
      ],
      "text/plain": [
       "   movie_id                             title  \\\n",
       "0    950387                 A Minecraft Movie   \n",
       "1   1195430                              Deva   \n",
       "2   1447439                              Deva   \n",
       "3   1229730                        Carjackers   \n",
       "4    822119  Captain America: Brave New World   \n",
       "\n",
       "                                            overview  \\\n",
       "0  [Four, misfits, find, themselves, struggling, ...   \n",
       "1  [Dev, Ambre,, a, ruthless, cop,, loses, his, m...   \n",
       "2  [Dev, Ambre,, a, ruthless, cop,, loses, his, m...   \n",
       "3  [By, day,, they're, invisible—valets,, hostess...   \n",
       "4  [After, meeting, with, newly, elected, U.S., P...   \n",
       "\n",
       "                                              genres  \\\n",
       "0  [[, ', F, a, m, i, l, y, ', ,, , ', C, o, m, e...   \n",
       "1  [[, ', A, c, t, i, o, n, ', ,, , ', T, h, r, i...   \n",
       "2  [[, ', A, c, t, i, o, n, ', ,, , ', T, h, r, i...   \n",
       "3  [[, ', A, c, t, i, o, n, ', ,, , ', A, d, v, e...   \n",
       "4  [[, ', A, c, t, i, o, n, ', ,, , ', T, h, r, i...   \n",
       "\n",
       "                                            keywords  \\\n",
       "0  [[, ', f, r, i, e, n, d, s, h, i, p, ', ,, , '...   \n",
       "1  [[, ', r, e, m, a, k, e, ', ,, , ', b, a, s, e...   \n",
       "2  [[, ', r, e, m, a, k, e, ', ,, , ', b, a, s, e...   \n",
       "3                                             [[, ]]   \n",
       "4  [[, ', h, e, r, o, ', ,, , ', s, u, p, e, r, h...   \n",
       "\n",
       "                                                cast  \\\n",
       "0  [[, ', J, a, s, o, n, , M, o, m, o, a, ', ,, ,...   \n",
       "1  [[, ', S, h, a, h, i, d, , K, a, p, o, o, r, '...   \n",
       "2  [[, ', S, h, a, h, i, d, , K, a, p, o, o, r, '...   \n",
       "3  [[, ', Z, o, é, , M, a, r, c, h, a, l, ', ,, ,...   \n",
       "4  [[, ', A, n, t, h, o, n, y, , M, a, c, k, i, e...   \n",
       "\n",
       "                                                crew  \\\n",
       "0  [[, ', P, r, o, d, u, c, e, r, :, , R, o, y, ,...   \n",
       "1  [[, ', D, i, r, e, c, t, o, r, :, , R, o, s, s...   \n",
       "2  [[, ', D, i, r, e, c, t, o, r, :, , R, o, s, s...   \n",
       "3  [[, ', D, i, r, e, c, t, o, r, :, , K, a, m, e...   \n",
       "4  [[, ', P, r, o, d, u, c, e, r, :, , K, e, v, i...   \n",
       "\n",
       "                                                tags  \n",
       "0  [Four, misfits, find, themselves, struggling, ...  \n",
       "1  [Dev, Ambre,, a, ruthless, cop,, loses, his, m...  \n",
       "2  [Dev, Ambre,, a, ruthless, cop,, loses, his, m...  \n",
       "3  [By, day,, they're, invisible—valets,, hostess...  \n",
       "4  [After, meeting, with, newly, elected, U.S., P...  "
      ]
     },
     "execution_count": 19,
     "metadata": {},
     "output_type": "execute_result"
    }
   ],
   "source": [
    "movies.head()\n"
   ]
  },
  {
   "cell_type": "code",
   "execution_count": 20,
   "id": "3196ffe6-1fab-4f32-84f7-bf2a0ab73530",
   "metadata": {},
   "outputs": [],
   "source": [
    "new_df = movies[['movie_id','title','tags']]"
   ]
  },
  {
   "cell_type": "code",
   "execution_count": 21,
   "id": "fda87f66-6b84-4735-9d24-8f81c0e53564",
   "metadata": {},
   "outputs": [
    {
     "name": "stderr",
     "output_type": "stream",
     "text": [
      "C:\\Users\\harry\\AppData\\Local\\Temp\\ipykernel_18656\\3089450492.py:1: SettingWithCopyWarning: \n",
      "A value is trying to be set on a copy of a slice from a DataFrame.\n",
      "Try using .loc[row_indexer,col_indexer] = value instead\n",
      "\n",
      "See the caveats in the documentation: https://pandas.pydata.org/pandas-docs/stable/user_guide/indexing.html#returning-a-view-versus-a-copy\n",
      "  new_df['tags'] = new_df['tags'].apply(lambda x:\" \".join(x))\n"
     ]
    }
   ],
   "source": [
    "new_df['tags'] = new_df['tags'].apply(lambda x:\" \".join(x))"
   ]
  },
  {
   "cell_type": "code",
   "execution_count": 22,
   "id": "bf89918b-c3c6-4821-b8dc-fa8c7b9e64ab",
   "metadata": {},
   "outputs": [
    {
     "data": {
      "text/html": [
       "<div>\n",
       "<style scoped>\n",
       "    .dataframe tbody tr th:only-of-type {\n",
       "        vertical-align: middle;\n",
       "    }\n",
       "\n",
       "    .dataframe tbody tr th {\n",
       "        vertical-align: top;\n",
       "    }\n",
       "\n",
       "    .dataframe thead th {\n",
       "        text-align: right;\n",
       "    }\n",
       "</style>\n",
       "<table border=\"1\" class=\"dataframe\">\n",
       "  <thead>\n",
       "    <tr style=\"text-align: right;\">\n",
       "      <th></th>\n",
       "      <th>movie_id</th>\n",
       "      <th>title</th>\n",
       "      <th>tags</th>\n",
       "    </tr>\n",
       "  </thead>\n",
       "  <tbody>\n",
       "    <tr>\n",
       "      <th>0</th>\n",
       "      <td>950387</td>\n",
       "      <td>A Minecraft Movie</td>\n",
       "      <td>Four misfits find themselves struggling with o...</td>\n",
       "    </tr>\n",
       "    <tr>\n",
       "      <th>1</th>\n",
       "      <td>1195430</td>\n",
       "      <td>Deva</td>\n",
       "      <td>Dev Ambre, a ruthless cop, loses his memory in...</td>\n",
       "    </tr>\n",
       "    <tr>\n",
       "      <th>2</th>\n",
       "      <td>1447439</td>\n",
       "      <td>Deva</td>\n",
       "      <td>Dev Ambre, a ruthless cop, loses his memory in...</td>\n",
       "    </tr>\n",
       "    <tr>\n",
       "      <th>3</th>\n",
       "      <td>1229730</td>\n",
       "      <td>Carjackers</td>\n",
       "      <td>By day, they're invisible—valets, hostesses, a...</td>\n",
       "    </tr>\n",
       "    <tr>\n",
       "      <th>4</th>\n",
       "      <td>822119</td>\n",
       "      <td>Captain America: Brave New World</td>\n",
       "      <td>After meeting with newly elected U.S. Presiden...</td>\n",
       "    </tr>\n",
       "  </tbody>\n",
       "</table>\n",
       "</div>"
      ],
      "text/plain": [
       "   movie_id                             title  \\\n",
       "0    950387                 A Minecraft Movie   \n",
       "1   1195430                              Deva   \n",
       "2   1447439                              Deva   \n",
       "3   1229730                        Carjackers   \n",
       "4    822119  Captain America: Brave New World   \n",
       "\n",
       "                                                tags  \n",
       "0  Four misfits find themselves struggling with o...  \n",
       "1  Dev Ambre, a ruthless cop, loses his memory in...  \n",
       "2  Dev Ambre, a ruthless cop, loses his memory in...  \n",
       "3  By day, they're invisible—valets, hostesses, a...  \n",
       "4  After meeting with newly elected U.S. Presiden...  "
      ]
     },
     "execution_count": 22,
     "metadata": {},
     "output_type": "execute_result"
    }
   ],
   "source": [
    "new_df.head()\n"
   ]
  },
  {
   "cell_type": "code",
   "execution_count": 23,
   "id": "a0c39ab3-087a-49a6-948c-0766605091cb",
   "metadata": {},
   "outputs": [
    {
     "data": {
      "text/plain": [
       "\"Four misfits find themselves struggling with ordinary problems when they are suddenly pulled through a mysterious portal into the Overworld: a bizarre, cubic wonderland that thrives on imagination. To get back home, they'll have to master this world while embarking on a magical quest with an unexpected, expert crafter, Steve. [ ' F a m i l y ' ,  ' C o m e d y ' ,  ' A d v e n t u r e ' ,  ' F a n t a s y ' ] [ ' f r i e n d s h i p ' ,  ' s u r r e a l i s m ' ,  ' e x p l o r a t i o n ' ,  ' p o r t a l ' ,  ' m i n e r ' ,  ' f r i e n d s ' ,  ' s u r v i v a l ' ,  ' z o m b i e ' ,  ' b a s e d  o n  v i d e o  g a m e ' ,  ' a f t e r c r e d i t s s t i n g e r ' ,  ' d u r i n g c r e d i t s s t i n g e r ' ,  ' j o u r n e y ' ,  ' i m a g i n a t i o n ' ,  ' t e a m w o r k ' ,  ' f a n t a s y ' ,  ' b u i l d i n g ' ] [ ' J a s o n  M o m o a ' ,  ' J a c k  B l a c k ' ,  ' S e b a s t i a n  E u g e n e  H a n s e n ' ,  ' E m m a  M y e r s ' ,  ' D a n i e l l e  B r o o k s ' ,  ' J e n n i f e r  C o o l i d g e ' ,  ' R a c h e l  H o u s e ' ,  ' A l l a n  H e n r y ' ,  ' B r a m  S c o t t - B r e h e n y ' ,  ' M o a n a  W i l l i a m s ' ] [ ' P r o d u c e r :  R o y  L e e ' ,  ' D i r e c t o r :  J a r e d  H e s s ' ,  ' P r o d u c e r :  M a r y  P a r e n t ' ,  ' P r o d u c e r :  V u  B u i ' ,  ' P r o d u c e r :  J a s o n  M o m o a ' ,  ' P r o d u c e r :  T o r f i  F r a n s  Ó l a f s s o n ' ,  ' P r o d u c e r :  C a l e  B o y t e r ' ,  ' P r o d u c e r :  J i l l  M e s s i c k ' ,  ' P r o d u c e r :  J o n  B e r g ' ]\""
      ]
     },
     "execution_count": 23,
     "metadata": {},
     "output_type": "execute_result"
    }
   ],
   "source": [
    "new_df['tags'][0]"
   ]
  },
  {
   "cell_type": "code",
   "execution_count": 24,
   "id": "151002de-301a-49c0-82bf-6db7e3162948",
   "metadata": {},
   "outputs": [
    {
     "name": "stderr",
     "output_type": "stream",
     "text": [
      "C:\\Users\\harry\\AppData\\Local\\Temp\\ipykernel_18656\\3214958533.py:1: SettingWithCopyWarning: \n",
      "A value is trying to be set on a copy of a slice from a DataFrame.\n",
      "Try using .loc[row_indexer,col_indexer] = value instead\n",
      "\n",
      "See the caveats in the documentation: https://pandas.pydata.org/pandas-docs/stable/user_guide/indexing.html#returning-a-view-versus-a-copy\n",
      "  new_df['tags'] = new_df['tags'].apply(lambda x:x.lower())\n"
     ]
    }
   ],
   "source": [
    "new_df['tags'] = new_df['tags'].apply(lambda x:x.lower())"
   ]
  },
  {
   "cell_type": "code",
   "execution_count": 25,
   "id": "3b252678-5a2f-4ea3-b27b-9c0dee99f8fc",
   "metadata": {},
   "outputs": [
    {
     "data": {
      "text/html": [
       "<div>\n",
       "<style scoped>\n",
       "    .dataframe tbody tr th:only-of-type {\n",
       "        vertical-align: middle;\n",
       "    }\n",
       "\n",
       "    .dataframe tbody tr th {\n",
       "        vertical-align: top;\n",
       "    }\n",
       "\n",
       "    .dataframe thead th {\n",
       "        text-align: right;\n",
       "    }\n",
       "</style>\n",
       "<table border=\"1\" class=\"dataframe\">\n",
       "  <thead>\n",
       "    <tr style=\"text-align: right;\">\n",
       "      <th></th>\n",
       "      <th>movie_id</th>\n",
       "      <th>title</th>\n",
       "      <th>tags</th>\n",
       "    </tr>\n",
       "  </thead>\n",
       "  <tbody>\n",
       "    <tr>\n",
       "      <th>0</th>\n",
       "      <td>950387</td>\n",
       "      <td>A Minecraft Movie</td>\n",
       "      <td>four misfits find themselves struggling with o...</td>\n",
       "    </tr>\n",
       "    <tr>\n",
       "      <th>1</th>\n",
       "      <td>1195430</td>\n",
       "      <td>Deva</td>\n",
       "      <td>dev ambre, a ruthless cop, loses his memory in...</td>\n",
       "    </tr>\n",
       "    <tr>\n",
       "      <th>2</th>\n",
       "      <td>1447439</td>\n",
       "      <td>Deva</td>\n",
       "      <td>dev ambre, a ruthless cop, loses his memory in...</td>\n",
       "    </tr>\n",
       "    <tr>\n",
       "      <th>3</th>\n",
       "      <td>1229730</td>\n",
       "      <td>Carjackers</td>\n",
       "      <td>by day, they're invisible—valets, hostesses, a...</td>\n",
       "    </tr>\n",
       "    <tr>\n",
       "      <th>4</th>\n",
       "      <td>822119</td>\n",
       "      <td>Captain America: Brave New World</td>\n",
       "      <td>after meeting with newly elected u.s. presiden...</td>\n",
       "    </tr>\n",
       "  </tbody>\n",
       "</table>\n",
       "</div>"
      ],
      "text/plain": [
       "   movie_id                             title  \\\n",
       "0    950387                 A Minecraft Movie   \n",
       "1   1195430                              Deva   \n",
       "2   1447439                              Deva   \n",
       "3   1229730                        Carjackers   \n",
       "4    822119  Captain America: Brave New World   \n",
       "\n",
       "                                                tags  \n",
       "0  four misfits find themselves struggling with o...  \n",
       "1  dev ambre, a ruthless cop, loses his memory in...  \n",
       "2  dev ambre, a ruthless cop, loses his memory in...  \n",
       "3  by day, they're invisible—valets, hostesses, a...  \n",
       "4  after meeting with newly elected u.s. presiden...  "
      ]
     },
     "execution_count": 25,
     "metadata": {},
     "output_type": "execute_result"
    }
   ],
   "source": [
    "new_df.head()"
   ]
  },
  {
   "cell_type": "code",
   "execution_count": 26,
   "id": "6ac28c80-1c34-4764-9865-a278ca78c359",
   "metadata": {},
   "outputs": [
    {
     "name": "stdout",
     "output_type": "stream",
     "text": [
      "Requirement already satisfied: nltk in c:\\python311\\lib\\site-packages (3.9.1)Note: you may need to restart the kernel to use updated packages.\n"
     ]
    },
    {
     "name": "stderr",
     "output_type": "stream",
     "text": [
      "\n",
      "[notice] A new release of pip is available: 23.1.2 -> 25.1.1\n",
      "[notice] To update, run: python.exe -m pip install --upgrade pip\n"
     ]
    },
    {
     "name": "stdout",
     "output_type": "stream",
     "text": [
      "\n",
      "Requirement already satisfied: click in c:\\python311\\lib\\site-packages (from nltk) (8.1.8)\n",
      "Requirement already satisfied: joblib in c:\\python311\\lib\\site-packages (from nltk) (1.4.2)\n",
      "Requirement already satisfied: regex>=2021.8.3 in c:\\python311\\lib\\site-packages (from nltk) (2024.11.6)\n",
      "Requirement already satisfied: tqdm in c:\\python311\\lib\\site-packages (from nltk) (4.67.1)\n",
      "Requirement already satisfied: colorama in c:\\python311\\lib\\site-packages (from click->nltk) (0.4.6)\n"
     ]
    }
   ],
   "source": [
    "pip install --user nltk\n"
   ]
  },
  {
   "cell_type": "code",
   "execution_count": 27,
   "id": "c74b1af0-a8c0-47f8-84ea-63c7c2eeb142",
   "metadata": {},
   "outputs": [],
   "source": [
    "import nltk"
   ]
  },
  {
   "cell_type": "code",
   "execution_count": 28,
   "id": "4be2350e-2f8d-4de7-b212-8a614c792d04",
   "metadata": {},
   "outputs": [],
   "source": [
    "from nltk.stem.porter import PorterStemmer\n",
    "ps = PorterStemmer()"
   ]
  },
  {
   "cell_type": "code",
   "execution_count": 29,
   "id": "89f3f7bd-e158-439a-8d45-078076919f81",
   "metadata": {},
   "outputs": [],
   "source": [
    "def stem(text):\n",
    "    y = []\n",
    "\n",
    "    for i in text.split():\n",
    "        y.append(ps.stem(i))\n",
    "\n",
    "    return \" \".join(y)"
   ]
  },
  {
   "cell_type": "code",
   "execution_count": 30,
   "id": "080afe38-baa3-4bf8-8ce0-3a61e22e09ec",
   "metadata": {},
   "outputs": [
    {
     "name": "stderr",
     "output_type": "stream",
     "text": [
      "C:\\Users\\harry\\AppData\\Local\\Temp\\ipykernel_18656\\2147430937.py:1: SettingWithCopyWarning: \n",
      "A value is trying to be set on a copy of a slice from a DataFrame.\n",
      "Try using .loc[row_indexer,col_indexer] = value instead\n",
      "\n",
      "See the caveats in the documentation: https://pandas.pydata.org/pandas-docs/stable/user_guide/indexing.html#returning-a-view-versus-a-copy\n",
      "  new_df['tags'] = new_df['tags'].apply(stem )\n"
     ]
    }
   ],
   "source": [
    "new_df['tags'] = new_df['tags'].apply(stem )"
   ]
  },
  {
   "cell_type": "code",
   "execution_count": 31,
   "id": "672f86d9-3711-49ca-87ea-9d4dce1afca4",
   "metadata": {},
   "outputs": [
    {
     "name": "stdout",
     "output_type": "stream",
     "text": [
      "Requirement already satisfied: scikit-learn in c:\\python311\\lib\\site-packages (1.6.1)\n",
      "Requirement already satisfied: numpy>=1.19.5 in c:\\python311\\lib\\site-packages (from scikit-learn) (2.2.3)\n",
      "Requirement already satisfied: scipy>=1.6.0 in c:\\python311\\lib\\site-packages (from scikit-learn) (1.15.2)\n",
      "Requirement already satisfied: joblib>=1.2.0 in c:\\python311\\lib\\site-packages (from scikit-learn) (1.4.2)\n",
      "Requirement already satisfied: threadpoolctl>=3.1.0 in c:\\python311\\lib\\site-packages (from scikit-learn) (3.5.0)\n"
     ]
    },
    {
     "name": "stderr",
     "output_type": "stream",
     "text": [
      "\n",
      "[notice] A new release of pip is available: 23.1.2 -> 25.1.1\n",
      "[notice] To update, run: python.exe -m pip install --upgrade pip\n"
     ]
    }
   ],
   "source": [
    "#text vectorization\n",
    "!pip install scikit-learn\n",
    "from sklearn.feature_extraction.text import CountVectorizer\n",
    "cv = CountVectorizer(max_features=5000,stop_words='english')"
   ]
  },
  {
   "cell_type": "code",
   "execution_count": 32,
   "id": "a39e8c74-dc57-4097-8f94-a6d08887fabe",
   "metadata": {},
   "outputs": [],
   "source": [
    "vectors = cv.fit_transform(new_df['tags']).toarray()"
   ]
  },
  {
   "cell_type": "code",
   "execution_count": 33,
   "id": "6fab2fe7-26fd-49e9-a421-6beddd709ae3",
   "metadata": {},
   "outputs": [
    {
     "data": {
      "text/plain": [
       "array(['000', '007', '10', ..., 'zone', 'zoo', 'état'],\n",
       "      shape=(5000,), dtype=object)"
      ]
     },
     "execution_count": 33,
     "metadata": {},
     "output_type": "execute_result"
    }
   ],
   "source": [
    "cv.get_feature_names_out()\n"
   ]
  },
  {
   "cell_type": "code",
   "execution_count": 34,
   "id": "42e7cb52-f357-468c-a908-bff701f27d9c",
   "metadata": {},
   "outputs": [
    {
     "data": {
      "text/plain": [
       "'love'"
      ]
     },
     "execution_count": 34,
     "metadata": {},
     "output_type": "execute_result"
    }
   ],
   "source": [
    "ps.stem('loved')"
   ]
  },
  {
   "cell_type": "code",
   "execution_count": 35,
   "id": "f93f20c2-564a-4c60-a5dc-f30209800523",
   "metadata": {},
   "outputs": [
    {
     "data": {
      "text/plain": [
       "'in the 22nd century, a parapleg marin is dispatch to the moon pandora on a uniqu mission, but becom torn between follow order and protect an alien civilization. action adventur fantasi sciencefict cultureclash futur spacewar spacecoloni societi spacetravel futurist romanc space alien tribe alienplanet cgi marin soldier battl loveaffair antiwar powerrel mindandsoul 3d samworthington zoesaldana sigourneyweav jamescameron'"
      ]
     },
     "execution_count": 35,
     "metadata": {},
     "output_type": "execute_result"
    }
   ],
   "source": [
    "stem(\n",
    "'In the 22nd century, a paraplegic Marine is dispatched to the moon Pandora on a unique mission, but becomes torn between following orders and protecting an alien civilization. Action Adventure Fantasy ScienceFiction cultureclash future spacewar spacecolony society spacetravel futuristic romance space alien tribe alienplanet cgi marine soldier battle loveaffair antiwar powerrelations mindandsoul 3d SamWorthington ZoeSaldana SigourneyWeaver JamesCameron'\n",
    ")"
   ]
  },
  {
   "cell_type": "code",
   "execution_count": 36,
   "id": "4ab06359-fe32-4c1c-8c19-dee815c3a414",
   "metadata": {},
   "outputs": [],
   "source": [
    "from sklearn.metrics.pairwise import cosine_similarity "
   ]
  },
  {
   "cell_type": "code",
   "execution_count": 37,
   "id": "cee463ba-c6a7-4f45-beb6-80007c579b75",
   "metadata": {},
   "outputs": [],
   "source": [
    "similarity = cosine_similarity(vectors)"
   ]
  },
  {
   "cell_type": "code",
   "execution_count": 38,
   "id": "dee83a55-52c5-4b00-b884-7ad2b73e4bee",
   "metadata": {},
   "outputs": [
    {
     "data": {
      "text/plain": [
       "array([0.        , 1.        , 1.        , ..., 0.21134099, 0.13259871,\n",
       "       0.        ], shape=(4537,))"
      ]
     },
     "execution_count": 38,
     "metadata": {},
     "output_type": "execute_result"
    }
   ],
   "source": [
    "similarity[2]"
   ]
  },
  {
   "cell_type": "code",
   "execution_count": 39,
   "id": "2363d74d-5877-4986-8258-de0edad5ab74",
   "metadata": {},
   "outputs": [],
   "source": [
    "def recommend(movie):\n",
    "    movie_index = new_df[new_df['title'] == movie].index[0]\n",
    "    distances = similarity[movie_index]\n",
    "    movies_list = sorted(list(enumerate(distances)),reverse=True,key=lambda x:x[1])[1:6]\n",
    "\n",
    "    for i in movies_list:\n",
    "        print(new_df.iloc[i[0]].title)\n",
    "    "
   ]
  },
  {
   "cell_type": "code",
   "execution_count": 42,
   "id": "f8edf6f2-243c-4b2e-9e41-c82df56c4ac4",
   "metadata": {},
   "outputs": [
    {
     "name": "stdout",
     "output_type": "stream",
     "text": [
      "Deva\n",
      "Infinite\n",
      "Wife Swap\n",
      "My Cousin Vinny\n",
      "Ferry 2\n"
     ]
    }
   ],
   "source": [
    "recommend('Deva')"
   ]
  },
  {
   "cell_type": "code",
   "execution_count": 41,
   "id": "a1a489fd-2415-4e8b-a00c-e99bcab6ab64",
   "metadata": {},
   "outputs": [
    {
     "name": "stdout",
     "output_type": "stream",
     "text": [
      "Deva\n",
      "Infinite\n",
      "Wife Swap\n",
      "My Cousin Vinny\n",
      "Ferry 2\n"
     ]
    }
   ],
   "source": [
    "recommend('Deva')"
   ]
  },
  {
   "cell_type": "code",
   "execution_count": null,
   "id": "3f6a21b5-306a-4197-bfd1-6b3686b85c07",
   "metadata": {},
   "outputs": [],
   "source": []
  },
  {
   "cell_type": "code",
   "execution_count": null,
   "id": "150e937d-bf69-485c-84c9-18566472df4b",
   "metadata": {},
   "outputs": [],
   "source": []
  },
  {
   "cell_type": "code",
   "execution_count": null,
   "id": "afbc6c86-09f1-4c42-88d1-9f9dcca6fb25",
   "metadata": {},
   "outputs": [],
   "source": []
  },
  {
   "cell_type": "code",
   "execution_count": null,
   "id": "02afb83b-1e3f-4943-9400-ef34c602349d",
   "metadata": {},
   "outputs": [],
   "source": []
  },
  {
   "cell_type": "code",
   "execution_count": null,
   "id": "108abb68-009d-4bee-bf58-7fe0e100c710",
   "metadata": {},
   "outputs": [],
   "source": []
  },
  {
   "cell_type": "code",
   "execution_count": null,
   "id": "a8554c5d-8849-43e6-8880-5ee92af408bd",
   "metadata": {},
   "outputs": [],
   "source": []
  }
 ],
 "metadata": {
  "kernelspec": {
   "display_name": "Python 3 (ipykernel)",
   "language": "python",
   "name": "python3"
  },
  "language_info": {
   "codemirror_mode": {
    "name": "ipython",
    "version": 3
   },
   "file_extension": ".py",
   "mimetype": "text/x-python",
   "name": "python",
   "nbconvert_exporter": "python",
   "pygments_lexer": "ipython3",
   "version": "3.11.4"
  }
 },
 "nbformat": 4,
 "nbformat_minor": 5
}
